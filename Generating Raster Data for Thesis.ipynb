{
 "cells": [
  {
   "cell_type": "code",
   "execution_count": 1,
   "metadata": {},
   "outputs": [],
   "source": [
    "#Title: Generating Raster Data for Thesis\n",
    "#Author: Emily Evenden\n",
    "#May 18, 2020\n",
    "\n",
    "###Part 1: Import necessary libraries. \n",
    "#The numpy library creates arrays. The PIL library converts arrays in to PNG images. The OS library allows the user to set their working directory.\n",
    "#You may need to install these libraries using conda install or pip install to run this script.\n",
    "#This script will output files as .PNG. To open these in TerrSet, you will need to use the GDAL Conversion tool and transform them to .RST.\n",
    "\n",
    "import numpy as np\n",
    "from PIL import Image\n",
    "import os"
   ]
  },
  {
   "cell_type": "code",
   "execution_count": 2,
   "metadata": {},
   "outputs": [],
   "source": [
    "#Set Working Directory to Folder of Choice. Make sure to double the backslashes.\n",
    "dir = os.chdir(\"C:\\\\Users\\\\Emily\\\\Documents\\\\Masters_Research\\\\Proposal\\\\Data\\\\Jupyter_Notebook_Data\")"
   ]
  },
  {
   "cell_type": "code",
   "execution_count": 3,
   "metadata": {},
   "outputs": [
    {
     "name": "stdout",
     "output_type": "stream",
     "text": [
      "[[1 1 1 ... 1 1 1]\n",
      " [1 1 1 ... 1 1 1]\n",
      " [1 1 1 ... 1 1 1]\n",
      " ...\n",
      " [1 1 1 ... 1 1 1]\n",
      " [1 1 1 ... 1 1 1]\n",
      " [1 1 1 ... 1 1 1]]\n"
     ]
    }
   ],
   "source": [
    "###Part 2: Generate Base Array of Ones to build other Files. The dimensions of this array is 100 rows by 110 columns. \n",
    "#It is integer data type. It is ordered as 'C' or contiguous. \n",
    "#For this project, the value \"1\" represents the category \"non-Agriculture.\"\n",
    "\n",
    "#Creates an empty array with the dimension requested\n",
    "a = np.empty((100,110), int, 'C')\n",
    "#Fills every position within the array with \"1\"\n",
    "np.copyto(a, 1, casting='unsafe')\n",
    "#Check point to make sure it worked\n",
    "print (a)"
   ]
  },
  {
   "cell_type": "code",
   "execution_count": 4,
   "metadata": {},
   "outputs": [
    {
     "name": "stdout",
     "output_type": "stream",
     "text": [
      "[[1 1 1 ... 1 1 1]\n",
      " [1 1 1 ... 1 1 1]\n",
      " [1 1 1 ... 1 1 1]\n",
      " ...\n",
      " [4 4 4 ... 4 4 4]\n",
      " [4 4 4 ... 4 4 4]\n",
      " [4 4 4 ... 4 4 4]]\n"
     ]
    }
   ],
   "source": [
    "###Part 3: Created Categorical Variable of Soil Type\n",
    "#This first section creates an array to represent different Soil Types.\n",
    "#Soil types will act as the categorical independent variable entered into the MLP neural network.\n",
    "\n",
    "#This section uses the array created above. This means the first 10 rows are already assigned to the value \"1\", aka Soil 1.\n",
    "\n",
    "#The next 20 rows are assigned to the value \"2\", aka Soil 2\n",
    "a[10:30,:]= 2\n",
    "#The next 30 rows are assigned to the value \"3\", aka Soil 3\n",
    "a[30:60,:]= 3\n",
    "#The next 40 rows are assigned to the value \"4\", aka Soil 4\n",
    "a[60:100,:]= 4\n",
    "print (a)"
   ]
  },
  {
   "cell_type": "code",
   "execution_count": 6,
   "metadata": {},
   "outputs": [],
   "source": [
    "#Output the adjusted \"Soil Type\" array as a .png file. You will find this in the working folder you assigned above.\n",
    "im = Image.fromarray(a)\n",
    "#Change the image name here\n",
    "im.save(\"JN_Soil_Type_Arthimetic.png\")"
   ]
  },
  {
   "cell_type": "code",
   "execution_count": 22,
   "metadata": {},
   "outputs": [
    {
     "name": "stdout",
     "output_type": "stream",
     "text": [
      "[[1 1 1 ... 1 1 1]\n",
      " [1 1 1 ... 1 1 1]\n",
      " [1 1 1 ... 1 1 1]\n",
      " ...\n",
      " [8 8 8 ... 8 8 8]\n",
      " [8 8 8 ... 8 8 8]\n",
      " [8 8 8 ... 8 8 8]]\n"
     ]
    }
   ],
   "source": [
    "###Part 4: Generate Quantitative Geometric Soil Type Variable\n",
    "#This is the another independent variable.\n",
    "#The file is almost the same as the original Soil Type file, but Soil type 3 is changed to \"4\" and Soil \"4\" is changed to \"8\".\n",
    "\n",
     "#The next 30 rows are assigned to the value \"4\", aka Soil 3\n",
    "a[30:60,:]= 4\n",
    "#The next rows are assigned to the value \"8\", aka Soil 4\n",
    "a[60:100,:]= 8\n",
    "print (a)"
   ]
  },
  {
   "cell_type": "code",
   "execution_count": 21,
   "metadata": {},
   "outputs": [],
   "source": [
    "#Output the adjusted array as a separate .png file\n",
    "im = Image.fromarray(a)\n",
    "#Change the image name here\n",
    "im.save(\"JN_Soil_Type_Geometric.png\")"
   ]
  },
  {
   "cell_type": "code",
   "execution_count": 23,
   "metadata": {},
   "outputs": [
    {
     "name": "stdout",
     "output_type": "stream",
     "text": [
      "[[2 2 2 ... 1 1 1]\n",
      " [2 2 2 ... 1 1 1]\n",
      " [2 2 2 ... 1 1 1]\n",
      " ...\n",
      " [2 2 2 ... 1 1 1]\n",
      " [2 2 2 ... 1 1 1]\n",
      " [2 2 2 ... 1 1 1]]\n"
     ]
    }
   ],
   "source": [
    "###Part 4: Generates a map of Agriculture at Time 1\n",
    "#The first 10 columns are \"Agriculture\" and the remaining 100 columns are \"non-Agriculture.\" \n",
    "#This line assigns every row of the first 10 columns to the value 2.\n",
    "#For this project, the value \"2\" represents \"Agriculture.\"\n",
    "\n",
    "#This resets the array we created so every position is 1. \n",
    "a[:,:]=1\n",
    "#Set the first 10 columns to 2, aka \"Agriculture\".\n",
    "a[:, 0:10]=2\n",
    "#Check point\n",
    "print (a)"
   ]
  },
  {
   "cell_type": "code",
   "execution_count": 8,
   "metadata": {},
   "outputs": [],
   "source": [
    "#Assign the Agriculture at Time 1 array to a variable and create a .png file. \n",
    "im = Image.fromarray(a)\n",
    "#Change file name here\n",
    "im.save(\"JN_Time1.png\")"
   ]
  },
  {
   "cell_type": "code",
   "execution_count": 24,
   "metadata": {},
   "outputs": [
    {
     "name": "stdout",
     "output_type": "stream",
     "text": [
      "[[2 2 2 ... 1 1 1]\n",
      " [2 2 2 ... 1 1 1]\n",
      " [2 2 2 ... 1 1 1]\n",
      " ...\n",
      " [2 2 2 ... 1 1 1]\n",
      " [2 2 2 ... 1 1 1]\n",
      " [2 2 2 ... 1 1 1]]\n"
     ]
    }
   ],
   "source": [
    "###Part 5: Generate 4 Maps of Agriculture at Time 2 based on Soil Type.\n",
    "#This cell is an example of how to create a Time 2 array where the amount of agricultural expansion corresponds with soil type.\n",
    "#This cell creates the Half-Monotonic Case.\n",
    "#To change the amount of Agricultural in Time 2, adjust the columns. This allows you to create different scenarios.\n",
    "\n",
    "#Return the base array to the Time 1 format\n",
    "a[:,:]=1\n",
    "a[:, 0:10]=2\n",
    "\n",
    "#The first 10 rows & 60 columns are assigned to the value \"2\" for Soil 1.\n",
    "a[0:10,10:70] = 2\n",
    "#The next 20 rows & 50 columns are assigned to the value \"2\" for Soil 2.\n",
    "a[10:30,10:60]= 2\n",
    "#The next 30 rows & 40 columns are assigned to the value \"2\" for Soil 3.\n",
    "a[30:60,10:50]= 2\n",
    "#The next 40 rows & 30 columns are assigned to the value \"2\" for Soil 4. \n",
    "a[60:100,10:40]= 2\n",
    "#Check point\n",
    "print (a)"
   ]
  },
  {
   "cell_type": "code",
   "execution_count": 12,
   "metadata": {},
   "outputs": [],
   "source": [
    "#Output the adjusted array as a separate .png file\n",
    "im = Image.fromarray(a)\n",
    "#Change file name here\n",
    "im.save(\"JN_Time2_Half_Monotonic.png\")"
   ]
  },
  {
   "cell_type": "code",
   "execution_count": 16,
   "metadata": {},
   "outputs": [
    {
     "name": "stdout",
     "output_type": "stream",
     "text": [
      "[[2 2 2 ... 1 1 1]\n",
      " [2 2 2 ... 1 1 1]\n",
      " [2 2 2 ... 1 1 1]\n",
      " ...\n",
      " [2 2 2 ... 1 1 1]\n",
      " [2 2 2 ... 1 1 1]\n",
      " [2 2 2 ... 1 1 1]]\n"
     ]
    }
   ],
   "source": [
    "#This cell creates the Quarter-Monotonic Case.\n",
    "\n",
    "#Return the base array to the Time 1 format\n",
    "a[:,:]=1\n",
    "a[:, 0:10]=2\n",
    "\n",
    "#The first 10 rows & 35 columns are assigned to the value \"2\" for Soil 1.\n",
    "a[0:10,10:45]=2\n",
    "#The next 20 rows & 30 columns are assigned to the value \"2\" for Soil 2.\n",
    "a[10:30,10:40]= 2\n",
    "#The next 30 rows & 25 columns are assigned to the value \"2\" for Soil 3.\n",
    "a[30:60,10:35]= 2\n",
    "#The next 40 rows & 20 columns are assigned to the value \"2\" for Soil 4. \n",
    "a[60:100,10:30]= 2\n",
    "#Check point\n",
    "print (a)"
   ]
  },
  {
   "cell_type": "code",
   "execution_count": 17,
   "metadata": {},
   "outputs": [],
   "source": [
    "#Output the adjusted array as a separate .png file\n",
    "im = Image.fromarray(a)\n",
    "#Change file name here\n",
    "im.save(\"JN_Time2_Quarter_Monotonic.png\")"
   ]
  },
  {
   "cell_type": "code",
   "execution_count": 14,
   "metadata": {},
   "outputs": [
    {
     "name": "stdout",
     "output_type": "stream",
     "text": [
      "[[2 2 2 ... 1 1 1]\n",
      " [2 2 2 ... 1 1 1]\n",
      " [2 2 2 ... 1 1 1]\n",
      " ...\n",
      " [2 2 2 ... 1 1 1]\n",
      " [2 2 2 ... 1 1 1]\n",
      " [2 2 2 ... 1 1 1]]\n"
     ]
    }
   ],
   "source": [
    "#This example creates the Cubic Case.\n",
    "\n",
    "#Return the base array to the Time 1 format\n",
    "a[:,:]=1\n",
    "a[:, 0:10]=2\n",
    "\n",
    "#The first 10 rows & 60 columns are assigned to the value \"2\" for Soil 1.\n",
    "a[0:10,10:70] = 2\n",
    "#The next 20 rows & 30 columns are assigned to the value \"2\" for Soil 2.\n",
    "a[10:30,10:40]= 2\n",
    "#The next 30 rows & 60 columns are assigned to the value \"2\" for Soil 3.\n",
    "a[30:60,10:70]= 2\n",
    "#The next 40 rows & 50 columns are assigned to the value \"2\" for Soil 4. \n",
    "a[60:100,10:60]= 2\n",
    "#Check point\n",
    "print (a)"
   ]
  },
  {
   "cell_type": "code",
   "execution_count": 15,
   "metadata": {},
   "outputs": [],
   "source": [
    "#Output the adjusted array as a separate .png file\n",
    "im = Image.fromarray(a)\n",
    "#Change file name here\n",
    "im.save(\"JN_Time2_Cubic.png\")"
   ]
  },
  {
   "cell_type": "code",
   "execution_count": 25,
   "metadata": {},
   "outputs": [
    {
     "name": "stdout",
     "output_type": "stream",
     "text": [
      "[[2 2 2 ... 1 1 1]\n",
      " [2 2 2 ... 1 1 1]\n",
      " [2 2 2 ... 1 1 1]\n",
      " ...\n",
      " [2 2 2 ... 1 1 1]\n",
      " [2 2 2 ... 1 1 1]\n",
      " [2 2 2 ... 1 1 1]]\n"
     ]
    }
   ],
   "source": [
    "#This cell creates Uniform Empirical Probability Case.\n",
    "#It assigns every row for columns 11-60 to the value 2. \n",
    "#This increase in value 2 between Time 1 and Time 2 represents agricultural expansion. \n",
    "\n",
    "#This resets the array to Time 1\n",
    "a[:,:]=1\n",
    "a[:, 0:10]=2\n",
    "\n",
    "#We assign the next 50 columns to  between Time 1 and Time 2 represents agricultural expansion. This creates a uniform empirical probability for each soil.\n",
    "a[:, 10:60]=2\n",
    "print (a)"
   ]
  },
  {
   "cell_type": "code",
   "execution_count": 26,
   "metadata": {},
   "outputs": [],
   "source": [
    "#Output the adjusted array as a separate .png file\n",
    "im = Image.fromarray(a)\n",
    "#Change file name here.\n",
    "im.save(\"JN_Time2_UniformEP.png\")"
   ]
  }
 ],
 "metadata": {
  "kernelspec": {
   "display_name": "Python 3",
   "language": "python",
   "name": "python3"
  },
  "language_info": {
   "codemirror_mode": {
    "name": "ipython",
    "version": 3
   },
   "file_extension": ".py",
   "mimetype": "text/x-python",
   "name": "python",
   "nbconvert_exporter": "python",
   "pygments_lexer": "ipython3",
   "version": "3.8.2"
  }
 },
 "nbformat": 4,
 "nbformat_minor": 4
}
