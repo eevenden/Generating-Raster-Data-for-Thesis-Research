{
 "cells": [
  {
   "cell_type": "code",
   "execution_count": 3,
   "metadata": {},
   "outputs": [],
   "source": [
    "#Title: 100 Column & 2 Transitions\n",
    "#Author: Emily Evenden\n",
    "#May 18, 2020\n",
    "\n",
    "###Part 1: Import necessary libraries. \n",
    "#The numpy library creates arrays. The PIL library converts arrays in to PNG images. The OS library allows the user to set their working directory.\n",
    "#You may need to install these libraries using conda install or pip install to run this script.\n",
    "#This script will output files as .PNG. To open these in TerrSet, you will need to use the GDAL Conversion tool and transform them to .RST.\n",
    "\n",
    "import numpy as np\n",
    "from PIL import Image\n",
    "import os"
   ]
  },
  {
   "cell_type": "code",
   "execution_count": 4,
   "metadata": {},
   "outputs": [],
   "source": [
    "#Set Working Directory to Folder of Choice. Make sure to double the backslashes.\n",
    "dir = os.chdir(\"C:\\\\Users\\\\Emily\\\\Documents\\\\Masters_Research\\\\Proposal\\\\Data\\\\100_Col_Data\")"
   ]
  },
  {
   "cell_type": "code",
   "execution_count": 5,
   "metadata": {},
   "outputs": [
    {
     "name": "stdout",
     "output_type": "stream",
     "text": [
      "[[1 1 1 ... 1 1 1]\n",
      " [1 1 1 ... 1 1 1]\n",
      " [1 1 1 ... 1 1 1]\n",
      " ...\n",
      " [1 1 1 ... 1 1 1]\n",
      " [1 1 1 ... 1 1 1]\n",
      " [1 1 1 ... 1 1 1]]\n"
     ]
    }
   ],
   "source": [
    "###Part 2: Generate Base Array of Ones to build other Files. The dimensions of this array is 100 rows by 110 columns. \n",
    "#It is integer data type. It is ordered as 'C' or contiguous. \n",
    "#For this project, the value \"1\" represents the category \"non-Agriculture.\"\n",
    "\n",
    "#Creates an empty array with the dimension requested\n",
    "a = np.empty((100,100), int, 'C')\n",
    "#Fills every position within the array with \"1\"\n",
    "np.copyto(a, 1, casting='unsafe')\n",
    "#Check point to make sure it worked\n",
    "print (a)"
   ]
  },
  {
   "cell_type": "code",
   "execution_count": 25,
   "metadata": {},
   "outputs": [],
   "source": [
    "#Output the adjusted array as a separate .png file\n",
    "im = Image.fromarray(a)\n",
    "#Change file name here\n",
    "im.save(\"2Tran_100_T1.png\")"
   ]
  },
  {
   "cell_type": "code",
   "execution_count": 26,
   "metadata": {},
   "outputs": [
    {
     "name": "stdout",
     "output_type": "stream",
     "text": [
      "[[1 1 1 ... 1 1 1]\n",
      " [1 1 1 ... 1 1 1]\n",
      " [1 1 1 ... 1 1 1]\n",
      " ...\n",
      " [4 4 4 ... 4 4 4]\n",
      " [4 4 4 ... 4 4 4]\n",
      " [4 4 4 ... 4 4 4]]\n"
     ]
    }
   ],
   "source": [
    "###Part 3: Created Categorical Variable of Soil Type\n",
    "#This first section creates an array to represent different Soil Types.\n",
    "#Soil types will act as the categorical independent variable entered into the MLP neural network.\n",
    "\n",
    "#This section uses the array created above. This means the first 10 rows are already assigned to the value \"1\", aka Soil 1.\n",
    "\n",
    "#The next 20 rows are assigned to the value \"2\", aka Soil 2\n",
    "a[10:30,:]= 2\n",
    "#The next 30 rows are assigned to the value \"3\", aka Soil 3\n",
    "a[30:60,:]= 3\n",
    "#The next 40 rows are assigned to the value \"4\", aka Soil 4\n",
    "a[60:100,:]= 4\n",
    "print (a)"
   ]
  },
  {
   "cell_type": "code",
   "execution_count": 27,
   "metadata": {},
   "outputs": [],
   "source": [
    "#Output the adjusted \"Soil Type\" array as a .png file. You will find this in the working folder you assigned above.\n",
    "im = Image.fromarray(a)\n",
    "#Change the image name here\n",
    "im.save(\"100_Column_Soil_Type.png\")"
   ]
  },
  {
   "cell_type": "code",
   "execution_count": 7,
   "metadata": {},
   "outputs": [
    {
     "name": "stdout",
     "output_type": "stream",
     "text": [
      "[[2 2 2 ... 1 1 1]\n",
      " [2 2 2 ... 1 1 1]\n",
      " [2 2 2 ... 1 1 1]\n",
      " ...\n",
      " [3 3 3 ... 1 1 1]\n",
      " [3 3 3 ... 1 1 1]\n",
      " [3 3 3 ... 1 1 1]]\n"
     ]
    }
   ],
   "source": [
    "###Multi-transition data\n",
    "#Time 2: Half Monotonic\n",
    "#This resets the array we created so every position is 1. \n",
    "a[:,:]=1\n",
    "\n",
    "#Set the first 10 columns to 2, aka \"Agriculture\".\n",
    "a[0:5, 0:70]=2\n",
    "a[5:10, 0:70] =3\n",
    "\n",
    "a[10:20, 0:60]=2\n",
    "a[20:30, 0:60]=3\n",
    "\n",
    "a[30:45, 0:50]=2\n",
    "a[45:60, 0:50]=3\n",
    "\n",
    "a[60:80, 0:40]=2\n",
    "a[80:100, 0:40]=3\n",
    "#Check point\n",
    "print (a)"
   ]
  },
  {
   "cell_type": "code",
   "execution_count": 8,
   "metadata": {},
   "outputs": [],
   "source": [
    "#Output the adjusted array as a separate .png file\n",
    "im = Image.fromarray(a)\n",
    "#Change file name here\n",
    "im.save(\"2Tran_100Col_T2_Half_Monotonic.png\")"
   ]
  },
  {
   "cell_type": "code",
   "execution_count": 9,
   "metadata": {},
   "outputs": [
    {
     "name": "stdout",
     "output_type": "stream",
     "text": [
      "[[2 2 2 ... 1 1 1]\n",
      " [2 2 2 ... 1 1 1]\n",
      " [2 2 2 ... 1 1 1]\n",
      " ...\n",
      " [3 3 3 ... 1 1 1]\n",
      " [3 3 3 ... 1 1 1]\n",
      " [3 3 3 ... 1 1 1]]\n"
     ]
    }
   ],
   "source": [
    "###Multi-transition data\n",
    "#Time 2: Quarter Monotonic\n",
    "#This resets the array we created so every position is 1. \n",
    "a[:,:]=1\n",
    "\n",
    "a[0:5, 0:35]=2\n",
    "a[5:10, 0:35] =3\n",
    "\n",
    "a[10:20, 0:30]=2\n",
    "a[20:30, 0:30]=3\n",
    "\n",
    "a[30:45, 0:25]=2\n",
    "a[45:60, 0:25]=3\n",
    "\n",
    "a[60:80, 0:20]=2\n",
    "a[80:100, 0:20]=3\n",
    "#Check point\n",
    "print (a)"
   ]
  },
  {
   "cell_type": "code",
   "execution_count": 10,
   "metadata": {},
   "outputs": [],
   "source": [
    "#Output the adjusted array as a separate .png file\n",
    "im = Image.fromarray(a)\n",
    "#Change file name here\n",
    "im.save(\"2Tran_100Col_T2_Quarter_Monotonic.png\")"
   ]
  },
  {
   "cell_type": "code",
   "execution_count": 11,
   "metadata": {},
   "outputs": [
    {
     "name": "stdout",
     "output_type": "stream",
     "text": [
      "[[2 2 2 ... 1 1 1]\n",
      " [2 2 2 ... 1 1 1]\n",
      " [2 2 2 ... 1 1 1]\n",
      " ...\n",
      " [3 3 3 ... 1 1 1]\n",
      " [3 3 3 ... 1 1 1]\n",
      " [3 3 3 ... 1 1 1]]\n"
     ]
    }
   ],
   "source": [
    "###Multi-transition data\n",
    "#Time 2: Cubic Monotonic\n",
    "#This resets the array we created so every position is 1. \n",
    "a[:,:]=1\n",
    "\n",
    "a[0:5, 0:60]=2\n",
    "a[5:10, 0:60] =3\n",
    "\n",
    "a[10:20, 0:30]=2\n",
    "a[20:30, 0:30]=3\n",
    "\n",
    "a[30:45, 0:60]=2\n",
    "a[45:60, 0:60]=3\n",
    "\n",
    "a[60:80, 0:50]=2\n",
    "a[80:100, 0:50]=3\n",
    "#Check point\n",
    "print (a)"
   ]
  },
  {
   "cell_type": "code",
   "execution_count": 12,
   "metadata": {},
   "outputs": [],
   "source": [
    "#Output the adjusted array as a separate .png file\n",
    "im = Image.fromarray(a)\n",
    "#Change file name here\n",
    "im.save(\"2Tran_100Col_Time2_Cubic.png\")"
   ]
  },
  {
   "cell_type": "code",
   "execution_count": 20,
   "metadata": {},
   "outputs": [
    {
     "name": "stdout",
     "output_type": "stream",
     "text": [
      "100\n",
      "[[  1   2   3 ...  98  99 100]\n",
      " [  1   2   3 ...  98  99 100]\n",
      " [  1   2   3 ...  98  99 100]\n",
      " ...\n",
      " [  1   2   3 ...  98  99 100]\n",
      " [  1   2   3 ...  98  99 100]\n",
      " [  1   2   3 ...  98  99 100]]\n"
     ]
    }
   ],
   "source": [
    "#Eastness Layer\n",
    "#This resets the array we created so every position is 1. \n",
    "a[:,:]=1\n",
    "\n",
    "columns = a.shape[1]\n",
    "print (columns)\n",
    "\n",
    "n=0\n",
    "\n",
    "for i in range(columns):\n",
    "    n=n+1\n",
    "    a[:, i]= n\n",
    "\n",
    "print (a)"
   ]
  },
  {
   "cell_type": "code",
   "execution_count": 21,
   "metadata": {},
   "outputs": [],
   "source": [
    "#Output the adjusted array as a separate .png file\n",
    "im = Image.fromarray(a)\n",
    "#Change file name here\n",
    "im.save(\"Eastness.png\")"
   ]
  },
  {
   "cell_type": "code",
   "execution_count": 9,
   "metadata": {},
   "outputs": [
    {
     "name": "stdout",
     "output_type": "stream",
     "text": [
      "[[  1   1   1 ...   1   1   1]\n",
      " [  2   2   2 ...   2   2   2]\n",
      " [  3   3   3 ...   3   3   3]\n",
      " ...\n",
      " [ 98  98  98 ...  98  98  98]\n",
      " [ 99  99  99 ...  99  99  99]\n",
      " [100 100 100 ... 100 100 100]]\n"
     ]
    }
   ],
   "source": [
    "#Southness Layer\n",
    "#This resets the array we created so every position is 1. \n",
    "a[:,:]=1\n",
    "\n",
    "m=0\n",
    "for row in a:\n",
    "    m=m+1\n",
    "    a[row, :]= m\n",
    "\n",
    "print (a)"
   ]
  },
  {
   "cell_type": "code",
   "execution_count": 10,
   "metadata": {},
   "outputs": [],
   "source": [
    "#Output the adjusted array as a separate .png file\n",
    "im = Image.fromarray(a)\n",
    "#Change file name here\n",
    "im.save(\"Southness.png\")"
   ]
  },
  {
   "cell_type": "code",
   "execution_count": null,
   "metadata": {},
   "outputs": [],
   "source": []
  }
 ],
 "metadata": {
  "kernelspec": {
   "display_name": "Python 3",
   "language": "python",
   "name": "python3"
  },
  "language_info": {
   "codemirror_mode": {
    "name": "ipython",
    "version": 3
   },
   "file_extension": ".py",
   "mimetype": "text/x-python",
   "name": "python",
   "nbconvert_exporter": "python",
   "pygments_lexer": "ipython3",
   "version": "3.8.2"
  }
 },
 "nbformat": 4,
 "nbformat_minor": 4
}
