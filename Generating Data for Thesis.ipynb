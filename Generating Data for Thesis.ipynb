{
 "cells": [
  {
   "cell_type": "code",
   "execution_count": 2,
   "metadata": {},
   "outputs": [],
   "source": [
    "#Author: Emily Evenden\n",
    "#May 18, 2020\n",
    "\n",
    "#Import necessary libraries\n",
    "import numpy as np\n",
    "from PIL import Image\n",
    "import os"
   ]
  },
  {
   "cell_type": "code",
   "execution_count": 3,
   "metadata": {},
   "outputs": [],
   "source": [
    "#Set Working Directory to Folder of Choice. Make sure to double the backslashes.\n",
    "dir = os.chdir(\"C:\\\\Users\\\\Emily\\\\Documents\\\\Masters_Research\\\\Proposal\\\\Data\\\\Jupyter_Notebook_Data\")"
   ]
  },
  {
   "cell_type": "code",
   "execution_count": 4,
   "metadata": {},
   "outputs": [
    {
     "name": "stdout",
     "output_type": "stream",
     "text": [
      "[[1 1 1 ... 1 1 1]\n",
      " [1 1 1 ... 1 1 1]\n",
      " [1 1 1 ... 1 1 1]\n",
      " ...\n",
      " [1 1 1 ... 1 1 1]\n",
      " [1 1 1 ... 1 1 1]\n",
      " [1 1 1 ... 1 1 1]]\n"
     ]
    }
   ],
   "source": [
    "#Generate Base Array of Ones to build other Files. The dimensions of this array is 100 rows by 110 columns. \n",
    "#It is integer data type. It is ordered as 'C' or contiguous. \n",
    "#For this project, the value \"1\" represents the category \"non-Agriculture.\"\n",
    "\n",
    "a = np.empty((100,110), int, 'C')\n",
    "np.copyto(a, 1, casting='unsafe')\n",
    "print (a)"
   ]
  },
  {
   "cell_type": "code",
   "execution_count": 5,
   "metadata": {},
   "outputs": [
    {
     "name": "stdout",
     "output_type": "stream",
     "text": [
      "[[1 1 1 ... 1 1 1]\n",
      " [1 1 1 ... 1 1 1]\n",
      " [1 1 1 ... 1 1 1]\n",
      " ...\n",
      " [4 4 4 ... 4 4 4]\n",
      " [4 4 4 ... 4 4 4]\n",
      " [4 4 4 ... 4 4 4]]\n"
     ]
    }
   ],
   "source": [
    "#This first section creates an array to represent Soil Types. \n",
    "#This is the categorical driver that will be entered into the MLP neural network.\n",
    "#The first 10 rows are already assigned to the value \"1\", aka Soil 1\n",
    "#The next 20 rows are assigned to the value \"2\", aka Soil 2\n",
    "a[10:30,:]= 2\n",
    "#The next 30 rows are assigned to the value \"3\", aka Soil 3\n",
    "a[30:60,:]= 3\n",
    "#The next rows are assigned to the value \"4\", aka Soil 4\n",
    "a[60:100,:]= 4\n",
    "print (a)"
   ]
  },
  {
   "cell_type": "code",
   "execution_count": 6,
   "metadata": {},
   "outputs": [],
   "source": [
    "#Output the adjusted array as a separate .png file\n",
    "im = Image.fromarray(a)\n",
    "im.save(\"JN_Soil_Type.png\")"
   ]
  },
  {
   "cell_type": "code",
   "execution_count": 7,
   "metadata": {},
   "outputs": [
    {
     "name": "stdout",
     "output_type": "stream",
     "text": [
      "[[2 2 2 ... 1 1 1]\n",
      " [2 2 2 ... 1 1 1]\n",
      " [2 2 2 ... 1 1 1]\n",
      " ...\n",
      " [2 2 2 ... 1 1 1]\n",
      " [2 2 2 ... 1 1 1]\n",
      " [2 2 2 ... 1 1 1]]\n"
     ]
    }
   ],
   "source": [
    "#The second section generates a map of Agriculture at Time 1 Data. The first 10 columns are \"Agriculture\" and the remaining 100 columns are \"non-Agriculture.\" \n",
    "#This line assigns every row of the first 10 columns to the value 2.\n",
    "#For this project, the value \"2\" represents \"Agriculture.\"\n",
    "a[:,:]=1\n",
    "a[:, 0:10]=2\n",
    "print (a)"
   ]
  },
  {
   "cell_type": "code",
   "execution_count": 8,
   "metadata": {},
   "outputs": [],
   "source": [
    "#Assign the array to a variable and create a .png file with the dimensions and values of the array. \n",
    "#This will appear in the output folder.\n",
    "\n",
    "im = Image.fromarray(a)\n",
    "im.save(\"JN_Time1.png\")"
   ]
  },
  {
   "cell_type": "code",
   "execution_count": 9,
   "metadata": {},
   "outputs": [
    {
     "name": "stdout",
     "output_type": "stream",
     "text": [
      "[[2 2 2 ... 1 1 1]\n",
      " [2 2 2 ... 1 1 1]\n",
      " [2 2 2 ... 1 1 1]\n",
      " ...\n",
      " [2 2 2 ... 1 1 1]\n",
      " [2 2 2 ... 1 1 1]\n",
      " [2 2 2 ... 1 1 1]]\n"
     ]
    }
   ],
   "source": [
    "#This cell creates an array which represents Time 2 where each soil category has an uniform empirical probability.\n",
    "#It assigns every row for columns 11-60 to the value 2. \n",
    "#This increase in value 2 between Time 1 and Time 2 represents agricultural expansion. \n",
    "a[:, 10:61]=2\n",
    "print (a)"
   ]
  },
  {
   "cell_type": "code",
   "execution_count": 10,
   "metadata": {},
   "outputs": [],
   "source": [
    "#Output the adjusted array as a separate .png file\n",
    "im = Image.fromarray(a)\n",
    "im.save(\"JN_Time2_UniformEP.png\")"
   ]
  },
  {
   "cell_type": "code",
   "execution_count": 11,
   "metadata": {},
   "outputs": [
    {
     "name": "stdout",
     "output_type": "stream",
     "text": [
      "[[2 2 2 ... 1 1 1]\n",
      " [2 2 2 ... 1 1 1]\n",
      " [2 2 2 ... 1 1 1]\n",
      " ...\n",
      " [2 2 2 ... 1 1 1]\n",
      " [2 2 2 ... 1 1 1]\n",
      " [2 2 2 ... 1 1 1]]\n"
     ]
    }
   ],
   "source": [
    "#This cell is an example of how to create a Time 2 array where the amount of agricultural expansion corresponds with soil type.\n",
    "#This example specifically creates the Half-Monotonic Scenario.\n",
    "#To change the amount of Agricultural in Time 2, adjust the columns.\n",
    "\n",
    "#Return the base array to the Time 1 format\n",
    "a[:,:]=1\n",
    "a[:, 0:10]=2\n",
    "\n",
    "#The first 10 rows are already assigned to the value \"1\", aka Soil 1\n",
    "a[0:10,10:70] = 2\n",
    "#The next 20 rows are assigned to the value \"2\", aka Soil 2\n",
    "a[10:30,10:60]= 2\n",
    "#The next 30 rows are assigned to the value \"3\", aka Soil 3\n",
    "a[30:60,10:50]= 2\n",
    "#The next rows are assigned to the value \"4\", aka Soil 4\n",
    "a[60:100,10:40]= 2\n",
    "print (a)"
   ]
  },
  {
   "cell_type": "code",
   "execution_count": 12,
   "metadata": {},
   "outputs": [],
   "source": [
    "#Output the adjusted array as a separate .png file\n",
    "im = Image.fromarray(a)\n",
    "im.save(\"JN_Time2_Half_Monotonic.png\")"
   ]
  },
  {
   "cell_type": "code",
   "execution_count": null,
   "metadata": {},
   "outputs": [],
   "source": []
  }
 ],
 "metadata": {
  "kernelspec": {
   "display_name": "Python 3",
   "language": "python",
   "name": "python3"
  },
  "language_info": {
   "codemirror_mode": {
    "name": "ipython",
    "version": 3
   },
   "file_extension": ".py",
   "mimetype": "text/x-python",
   "name": "python",
   "nbconvert_exporter": "python",
   "pygments_lexer": "ipython3",
   "version": "3.8.2"
  }
 },
 "nbformat": 4,
 "nbformat_minor": 4
}
